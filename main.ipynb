{
 "cells": [
  {
   "cell_type": "code",
   "execution_count": 1,
   "id": "194a199b-d55c-4515-b519-88c1235bbf60",
   "metadata": {},
   "outputs": [
    {
     "name": "stdout",
     "output_type": "stream",
     "text": [
      "Du musst 4 Zombies töten um zu gewinnen\n",
      "Pflanze an (5, 3) platziert.\n",
      "Pflanze an (5, 4) platziert.\n",
      "Feld (5, 4) ist bereits besetzt.\n",
      "Pflanze an (2, 3) platziert.\n",
      "Pflanze an (2, 4) platziert.\n",
      "Feld (2, 4) ist bereits besetzt.\n",
      "Pflanze an (3, 1) platziert.\n",
      "Pflanze an (2, 1) platziert.\n",
      "Pflanze an (1, 1) platziert.\n",
      "Feld (1, 1) ist bereits besetzt.\n",
      "Feld (1, 1) ist bereits besetzt.\n",
      "Die Pflanzen haben gewonnen!\n",
      "Die Pflanzen haben gewonnen!\n",
      "Die Pflanzen haben gewonnen!\n",
      "Die Pflanzen haben gewonnen!\n",
      "Die Pflanzen haben gewonnen!\n",
      "Die Pflanzen haben gewonnen!\n",
      "Die Pflanzen haben gewonnen!\n",
      "Die Pflanzen haben gewonnen!\n",
      "Die Pflanzen haben gewonnen!\n",
      "Die Pflanzen haben gewonnen!\n",
      "Die Pflanzen haben gewonnen!\n"
     ]
    }
   ],
   "source": [
    "from algoviz import AlgoViz\n",
    "from spiel import Spiel\n",
    "\n",
    "AlgoViz.clear()\n",
    "\n",
    "spiel = Spiel()\n",
    "spiel.start_game_loop()"
   ]
  },
  {
   "cell_type": "code",
   "execution_count": null,
   "id": "b8569560-1818-4d9d-ac4c-a344dcb28eea",
   "metadata": {},
   "outputs": [],
   "source": []
  },
  {
   "cell_type": "code",
   "execution_count": null,
   "id": "9597c7d7-24bc-4eb9-b3d0-3fee23eca71c",
   "metadata": {},
   "outputs": [],
   "source": []
  },
  {
   "cell_type": "code",
   "execution_count": null,
   "id": "060c28d2-f24e-49ee-8a9a-630c3fa50fde",
   "metadata": {},
   "outputs": [],
   "source": []
  }
 ],
 "metadata": {
  "kernelspec": {
   "display_name": "Python 3 (ipykernel)",
   "language": "python",
   "name": "python3"
  },
  "language_info": {
   "codemirror_mode": {
    "name": "ipython",
    "version": 3
   },
   "file_extension": ".py",
   "mimetype": "text/x-python",
   "name": "python",
   "nbconvert_exporter": "python",
   "pygments_lexer": "ipython3",
   "version": "3.12.7"
  }
 },
 "nbformat": 4,
 "nbformat_minor": 5
}

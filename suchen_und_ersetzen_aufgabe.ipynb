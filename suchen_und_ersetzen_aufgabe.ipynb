{
 "cells": [
  {
   "cell_type": "markdown",
   "id": "9a2e9739",
   "metadata": {},
   "source": [
    "# Testataufgabe: Suchen und Ersetzen (30 Punkte)\n",
    "\n",
    "Erstellen Sie ein Jupyter Notebook, welches vom Nutzer einen String einliest und in diesem den ersten nicht wiederholenden Buchstaben findet (also den ersten Buchstaben, der im String nur einmal vorkommt).\n",
    "\n",
    "Stellen Sie sicher, dass der Nutzer keinen String eingeben kann, der andere Zeichen außer Kleinbuchstaben enthält und das der eingelesene String nicht verändert wird!\n",
    "Verwenden Sie in dieser Aufgabe **keine anderen Operationen der Klasse string** als *replace()*, *ord()*, *chr()*, *len()*, den Index-Zugriff *s[index]* und das Iterieren über Zeichen eines Strings! \n",
    "\n",
    "Das Ergebnis soll genau so, wie im Beispiel ausgegeben werden, insbesondere soll hierbei ein String ausgegeben werden, in dem der erste nicht wiederholende Buchstabe in einen Großbuchstaben umgewandelt wurde.\n",
    "Falls kein nicht wiederholender Buchstabe im String vorkommt, soll dies mit einer kurzen Nachricht angezeigt werden.\n",
    "\n",
    "*Beispiel:*\n",
    "\n",
    "    Eingabestring: rentnerin\n",
    "    \n",
    "    Ausgabe:\n",
    "    Originalstring: rentnerin\n",
    "    Buchstabe: t\n",
    "    Index: 3\n",
    "    Ergebnisstring: renTnerin\n",
    "\n",
    "***\n",
    "    \n",
    "## Anforderungen:\n",
    "- Einlesen entsprechend der Aufgabenstellung.\n",
    "- Anzahl jedes im String vorkommenden Zeichens zählen.\n",
    "- Ersten nicht wiederholenden Buchstaben identifizieren und in Großbuchstaben umwandeln.\n",
    "- Ausschließliche Verwendung der Operationen *ord* und *chr()* der Klasse string, sowie *len()*,  den Index-Zugriff *s[index]* und das Iterieren über Zeichen eines Strings.\n",
    "- Ausgabe wie im Beispiel.\n",
    "\n",
    "***"
   ]
  },
  {
   "cell_type": "markdown",
   "id": "e3a72f97",
   "metadata": {},
   "source": [
    "***\n",
    "\n",
    "<div id=\"algoviz-license\" style=\"font-size: 75%; border-top: 1px solid lightgray; padding-top: 10px; margin-top: 20px;\">\n",
    "    <a href=\"https://creativecommons.org/licenses/by-sa/4.0/deed.de\" style=\"float:left; margin-right: 10px\">\n",
    "        <img src=\"../../img/CC-BY-SA.svg\" alt=\"CC-BY-SA\"/>\n",
    "    </a>\n",
    "    <span>\n",
    "        Alle Inhalte dieses Notebooks sind, ausgenommen der Personenbilder und sofern nicht an\n",
    "        einzelnen Inhalten anderes angegeben, lizenziert unter der Creative Commons Lizenz\n",
    "        <b>CC BY SA 4.0</b>. Namensnennung wie folgt: <b>AG Didaktik der Informatik, Universität Osnabrück</b>\n",
    "    </span>\n",
    "</div>"
   ]
  }
 ],
 "metadata": {
  "kernelspec": {
   "display_name": "Python 3 (ipykernel)",
   "language": "python",
   "name": "python3"
  },
  "language_info": {
   "codemirror_mode": {
    "name": "ipython",
    "version": 3
   },
   "file_extension": ".py",
   "mimetype": "text/x-python",
   "name": "python",
   "nbconvert_exporter": "python",
   "pygments_lexer": "ipython3",
   "version": "3.12.7"
  }
 },
 "nbformat": 4,
 "nbformat_minor": 5
}

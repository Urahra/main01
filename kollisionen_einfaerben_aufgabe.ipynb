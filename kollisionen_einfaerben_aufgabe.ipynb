{
 "cells": [
  {
   "cell_type": "markdown",
   "id": "507bce33",
   "metadata": {},
   "source": [
    "# Testataufgabe: Kollisionsberechnungen mit Einfärben (30 Punkte)\n",
    "\n",
    "Erstellen Sie ein Jupyter Notebook, in welchem zwei Quadrate an zufälligen Positionen gezeichnet werden. \n",
    "\n",
    "Nutzen Sie für die zufällige Platzierung der Quadrate die seed() und randrange()-Funktion der random Bibliothek. Im folgenden Beispiel wird eine Zufallszahl zwischen 1 und 100 berechnet."
   ]
  },
  {
   "cell_type": "code",
   "execution_count": null,
   "id": "56591f9f",
   "metadata": {},
   "outputs": [],
   "source": [
    "from random import seed, randrange\n",
    "\n",
    "# intitialisiert den Zufallszahlengenerator\n",
    "# muss einmal vor der Erzeugung von Zufallszahlen aufgerufen werden\n",
    "seed()\n",
    "\n",
    "# liefert eine Zufallszahl zwischen 1 (inklusive) und 100 (exklusive)\n",
    "random_number = randrange(1, 100)"
   ]
  },
  {
   "cell_type": "markdown",
   "id": "3c255609",
   "metadata": {},
   "source": [
    "Färben Sie beide Quadrate in verschiedenen Farben ein. Prüfen Sie dann, ob sich die beiden Quadrate überschneiden. Färben Sie das eventuell entstehende Rechteck der Schnittfläche aktiv in einer weiteren Farbe ein. Nutzen Sie hierbei möglichst wenig if-Bedingungen.\n",
    "\n",
    "Sollte es keine Schnittfläche geben, erzeugen Sie einen Text im Zeichenfeld, der angibt, dass es keine Schnittfläche gibt. Wie ein Text erzeugt wird können Sie der Dokumentation des Textes entnehmen. Diese erreichen Sie durch folgenden Code:"
   ]
  },
  {
   "cell_type": "code",
   "execution_count": null,
   "id": "b7390b63",
   "metadata": {},
   "outputs": [],
   "source": [
    "from algoviz.svg import Text\n",
    "?Text"
   ]
  },
  {
   "cell_type": "markdown",
   "id": "346f50f7",
   "metadata": {},
   "source": [
    "## Anforderungen:\n",
    "- Es werden zwei Quadrate an zufälligen Positionen auf dem Zeichenbrett erstellt.\n",
    "- Beide Quadrate werden eingefärbt.\n",
    "- Es wird berechnet, ob sich die beiden Quadrate überschneiden.\n",
    "- Ein eventuelles Schnitt-Rechteck wird aktiv in einer 3. Farbe eingefärbt. (Ein \"automatisches\" Einfärben durch teiltransparente Quadrate ist nicht erlaubt.)\n",
    "- Sollte es keine Schnittfläche geben, wird dies durch einen Text mitgeteilt."
   ]
  },
  {
   "cell_type": "markdown",
   "id": "9cd29005",
   "metadata": {},
   "source": [
    "***\n",
    "\n",
    "<div id=\"algoviz-license\" style=\"font-size: 75%; border-top: 1px solid lightgray; padding-top: 10px; margin-top: 20px;\">\n",
    "    <a href=\"https://creativecommons.org/licenses/by-sa/4.0/deed.de\" style=\"float:left; margin-right: 10px\">\n",
    "        <img src=\"../../img/CC-BY-SA.svg\" alt=\"CC-BY-SA\"/>\n",
    "    </a>\n",
    "    <span>\n",
    "        Alle Inhalte dieses Notebooks sind, ausgenommen der Personenbilder und sofern nicht an\n",
    "        einzelnen Inhalten anderes angegeben, lizenziert unter der Creative Commons Lizenz\n",
    "        <b>CC BY SA 4.0</b>. Namensnennung wie folgt: <b>AG Didaktik der Informatik, Universität Osnabrück</b>\n",
    "    </span>\n",
    "</div>"
   ]
  }
 ],
 "metadata": {
  "kernelspec": {
   "display_name": "Python 3 (ipykernel)",
   "language": "python",
   "name": "python3"
  },
  "language_info": {
   "codemirror_mode": {
    "name": "ipython",
    "version": 3
   },
   "file_extension": ".py",
   "mimetype": "text/x-python",
   "name": "python",
   "nbconvert_exporter": "python",
   "pygments_lexer": "ipython3",
   "version": "3.12.7"
  }
 },
 "nbformat": 4,
 "nbformat_minor": 5
}
